{
 "cells": [
  {
   "cell_type": "markdown",
   "metadata": {},
   "source": [
    "<h1> <center> ENSF 519.01 Applied Data Scince </center></h1>\n",
    "<h2> <center> Assignment 2: Supervisoed Machine Learning - Classification & Regression (25 marks)</center></h2>\n",
    "<h2> <center> Due: . Feb 16, 2018. To be submitted on D2L Dropbox </center></h2>\n"
   ]
  },
  {
   "cell_type": "markdown",
   "metadata": {},
   "source": [
    "This assignemnt focuses on applying basic classfication and regression techniques in the context of sofware quality and performance, in four parts. "
   ]
  },
  {
   "cell_type": "markdown",
   "metadata": {},
   "source": [
    "<h2>Part A. Defect Prediction: Binary Classification (7 marks)</h2>\n",
    "<br>\n",
    "\n",
    "Software quality assurance (SQA) techniques (e.g., testing, code review, etc.) are among the major tasks in software development that try to eliminate software defects, as much as possible, prior to deployment. However, they are also expensive and time consuming. Therefore, it is very beneficial to narrow the scope of SQA to the parts of the software (e.g., files, classes, or even methods) that are defective. Obviously, before applying SQA, the defective parts are unknown, therefore, “software defect prediction” techniques try to use machine learning to predict which parts of the software (e.g., which classes) are more likely to be defective. Thus the SQA effort can be proportionally allocated to them (more SQA resources for parts that are predicted to be defective). \n",
    "\n",
    "In Parts A, B, and C, you will apply several supervised machine learning techniques to a defect dataset from a software repository, which is belong to a NASA system. The dataset have collected a set of software related metrics from the history of the software, per module. They also recorded the existence of a defect per module. In other words, your feature set is the metrics array and the targets are the existence of defects. \n",
    "\n",
    "The goal is to build a model to predict the target based on the features from the historical data. \n",
    "\n",
    "To read more about the dataset and the features collected see:\n",
    "\n",
    "NASA dataset:http://openscience.us/repo/defect/mccabehalsted/jm1.html\n"
   ]
  },
  {
   "cell_type": "markdown",
   "metadata": {},
   "source": [
    "First, you should read the NASA data that is given to you as a .csv file ( NasaData.csv ). Use pandas read_csv function for this.\n",
    "\n",
    "After reading the data, build binary classification models with LogisticRegression, LinearSVC, GaussianNB, and KNeighborsClassifier, from SKLearn. Each model gets metrics as feature set and predicts either a defective (1) or not defective (0) label.\n",
    "\n",
    "Take 75% of data as training set and 25% of it as test set. To eliminate the randomness when splitting the data, you should run each classification technique 30 times with seeds from [1 to 30]. \n",
    "\n",
    "Using model_selection's train_test_split function, randomly select 1/4 of your dataset as training and 3/4 as test set. \n",
    "Calculate accuracies per technique and repeat this for a total of 30 random runs (every run will use a different random seed in train_test_split and return a separate accuracy value per model).\n",
    "\n",
    "Visualize the distribution of the accuracies for each model in a single box plot. All boxplots should be located in one figure, where The X_axis is the four classification techniques that you've applied and the Y_axis is the accuracies.\n",
    "\n",
    "Identify which model (with default parameters) has the lowest/most unreliable results.\n",
    "\n",
    "Improve that model to be almost in par with others, using regularization.\n",
    "\n",
    "*** Note1 you must use pandas for both reading from CSV and visualizing boxplots ***\n",
    "<br>\n",
    "\n",
    "*** Note2 only report final results. That is after regularization for the worst technique, together with defaults for other techniques ***\n"
   ]
  },
  {
   "cell_type": "markdown",
   "metadata": {},
   "source": [
    "<b>Your Answer:</b> ..................."
   ]
  },
  {
   "cell_type": "code",
   "execution_count": 63,
   "metadata": {
    "scrolled": false
   },
   "outputs": [
    {
     "data": {
      "text/plain": [
       "Text(0.5,0,'Model')"
      ]
     },
     "execution_count": 63,
     "metadata": {},
     "output_type": "execute_result"
    },
    {
     "data": {
      "image/png": "[encoded data removed]",
      "text/plain": [
       "<matplotlib.figure.Figure at 0x7f9b04e946d8>"
      ]
     },
     "metadata": {},
     "output_type": "display_data"
    }
   ],
   "source": [
    "# pandas v0.22.0\n",
    "import pandas as pd\n",
    "\n",
    "# numpy v1.13.3\n",
    "import numpy as np\n",
    "\n",
    "# sklearn v0.19.1\n",
    "from sklearn.model_selection import train_test_split\n",
    "from sklearn.linear_model import LogisticRegression\n",
    "from sklearn.svm import LinearSVC\n",
    "from sklearn.naive_bayes import GaussianNB\n",
    "from sklearn.neighbors import KNeighborsClassifier\n",
    "\n",
    "# matplotlib v2.1.2\n",
    "import matplotlib.pyplot as plt\n",
    "%matplotlib inline\n",
    "\n",
    "# load file into dataframe\n",
    "nasa_path = \"NasaData.csv\"\n",
    "try:\n",
    "    nasa_df = pd.read_csv(nasa_path)\n",
    "except FileNotFoundError as e:\n",
    "    print(e)\n",
    "\n",
    "# set of binary classification models\n",
    "models = { LogisticRegression, LinearSVC, GaussianNB, KNeighborsClassifier }\n",
    "\n",
    "def get_scores(binary_class_model, count, tuning):\n",
    "    \"\"\"\n",
    "    Make `count` predictions with a given model and return the scores in a list.\n",
    "    \"\"\"\n",
    "    p = []\n",
    "    model = binary_class_model(**tuning)\n",
    "    for seed in range(1, count + 1):\n",
    "        # take 75% of data as training set and 25% of as test set\n",
    "        X_train, X_test, y_train, y_test = train_test_split(\n",
    "            nasa_df.drop('label', axis=1), nasa_df['label'], test_size=0.25, random_state=seed)\n",
    "        # predict label: defective (1) or not defective (0)\n",
    "        model.fit(X_train, y_train)\n",
    "        p.append(model.score(X_test, y_test))\n",
    "    return p\n",
    "\n",
    "# perform predictions and record scores (updated with regularization for LinearSVC)\n",
    "model_dist = { m.__name__: get_scores(m, 30, {\"C\":1e-11} if m == LinearSVC else dict()) for m in models }\n",
    "\n",
    "# create box plot\n",
    "model_dist_df = pd.DataFrame(model_dist)\n",
    "ax = model_dist_df.plot.box(\n",
    "    figsize=(8, 10),\n",
    "    grid=True,\n",
    "    patch_artist=True,\n",
    "    flierprops={'markerfacecolor': '#ff7f00', 'marker': '^', 'alpha': 0.6},\n",
    "    color=dict(boxes='lightskyblue', whiskers='mediumpurple', medians='yellow')\n",
    ")\n",
    "ax.set_title('Comparison of Scikit-Learn NASA Data Models')\n",
    "ax.title.set_fontsize(16)\n",
    "ax.set_ylabel('Accuracy')\n",
    "ax.set_xlabel('Model')\n",
    "ax.yaxis.label.set_fontsize(14)\n",
    "ax.xaxis.label.set_fontsize(14)\n",
    "    \n",
    "# LinearSVC is the least reliable model\n",
    "\n",
    "# determine which value of C is best: from 1e-15 to 1e15 (default is 1.0)\n",
    "# results = []\n",
    "# for i in range(-15, 16):\n",
    "#     print(\"iteration \", i, \": \", np.array(get_scores(LinearSVC, 30, {\"C\":10**i})).mean())\n",
    "\n",
    "# regularization at C=1e-11 is the best accuracy (78.5131894484%)"
   ]
  },
  {
   "cell_type": "markdown",
   "metadata": {},
   "source": [
    "<h1>Part B. Model complexity (6 marks)</h1>\n",
    "\n"
   ]
  },
  {
   "cell_type": "markdown",
   "metadata": {},
   "source": [
    "In this part, we will focus only on the kNN algorithm and try to tune it's complexity.\n",
    "\n",
    "<h2>Part B.1. KNN complexity tuning (3 marks)</h2>\n",
    "In this part, we want to tune the value k in kNN for our NASA dataset. To do so, you should find a sweet spot that the model is neither overfitted nor underfitted. \n",
    "Here again take the NASA dataset and apply the model_selection's train_test_split with 75% training and 25% test data, but with a fix random_state=42.  \n",
    "\n",
    "Then build a K-Nearest-Neighbors model using k=1,3,5,..,49. Finally, plot the accuracy of your models on the training dataset and the testing dataset, using two lines in one plot.  \n",
    "\n",
    "Using this plot identify what the best value is for k.\n"
   ]
  },
  {
   "cell_type": "code",
   "execution_count": 134,
   "metadata": {},
   "outputs": [
    {
     "name": "stdout",
     "output_type": "stream",
     "text": [
      "\n",
      "The best accuracy appears to be about 27 neighbours since this is when \n",
      "training and test accuracy first converge (at about 78.8%).\n",
      "\n"
     ]
    },
    {
     "data": {
      "image/png": "[encoded data removed]",
      "text/plain": [
       "<matplotlib.figure.Figure at 0x7f9af7724358>"
      ]
     },
     "metadata": {},
     "output_type": "display_data"
    }
   ],
   "source": [
    "# apply a 75% training, 25% test split with a fixed seed\n",
    "fixed_seed = 42\n",
    "\n",
    "# calculate accuracies with k=1,3,5,..,49\n",
    "def calculate_KNN(args=dict()):\n",
    "    KNN_index = [i for i in range(1, 51, 2)]\n",
    "    train_results = []\n",
    "    test_results = []\n",
    "    for k in KNN_index:\n",
    "        model = KNeighborsClassifier(n_neighbors=k, **args)\n",
    "        X_train, X_test, y_train, y_test = train_test_split(\n",
    "            nasa_df.drop('label', axis=1), nasa_df['label'], test_size=0.25, random_state=fixed_seed)\n",
    "        m = model.fit(X_train, y_train)\n",
    "        train_results.append(model.score(X_train, y_train))\n",
    "        test_results.append(model.score(X_test, y_test))\n",
    "    return { \"Training Accuracy\": train_results, \"Test Accuracy\": test_results }\n",
    "\n",
    "# plot results and identify best value for k\n",
    "KNN_dict = calculate_KNN()\n",
    "KNN_df = pd.DataFrame(KNN_dict, index=KNN_index)\n",
    "ax = KNN_df.plot(figsize=(10, 8))\n",
    "ax.set_title('KNN Training vs Test Accuracy on NASA Data Models')\n",
    "ax.title.set_fontsize(16)\n",
    "ax.set_ylabel('Accuracy')\n",
    "ax.set_xlabel('Number of Neighbours')\n",
    "ax.yaxis.label.set_fontsize(14)\n",
    "ax.xaxis.label.set_fontsize(14)\n",
    "\n",
    "print(\n",
    "\"\"\"\n",
    "The best accuracy appears to be about 27 neighbours since this is when \n",
    "training and test accuracy first converge (at about 78.8%).\n",
    "\"\"\"\n",
    ")"
   ]
  },
  {
   "cell_type": "markdown",
   "metadata": {},
   "source": [
    "<h2>Part B.2. KNN weight parameter (3 marks)</h2>\n",
    "\n",
    "Report your Part B.1. experiment but with KNN's 'weights' parameter set to 'distance'.\n",
    "\n",
    "Visualize the new results. \n",
    "\n",
    "Explain what has happend and why. "
   ]
  },
  {
   "cell_type": "code",
   "execution_count": 135,
   "metadata": {},
   "outputs": [
    {
     "data": {
      "image/png": "[encoded data removed]",
      "text/plain": [
       "<matplotlib.figure.Figure at 0x7f9af7630438>"
      ]
     },
     "metadata": {},
     "output_type": "display_data"
    }
   ],
   "source": [
    "# repeat calculation with KNN weights set to distance\n",
    "KNN_dict = calculate_KNN({\"weights\": \"distance\"})\n",
    "KNN_df = pd.DataFrame(KNN_dict, index=KNN_index)\n",
    "ax = KNN_df.plot(figsize=(10, 8))\n",
    "ax.set_title('KNN (Weighted Distance) Training vs Test Accuracy on NASA Data Models')\n",
    "ax.title.set_fontsize(16)\n",
    "ax.set_ylabel('Accuracy')\n",
    "ax.set_xlabel('Number of Neighbours')\n",
    "ax.yaxis.label.set_fontsize(14)\n",
    "ax.xaxis.label.set_fontsize(14)"
   ]
  },
  {
   "cell_type": "markdown",
   "metadata": {},
   "source": [
    "Answer:\n",
    "\n",
    "Here, closer neighbours have a stronger influence on how a data point is\n",
    "classified (distance is inversely proportional to influence). Since the\n",
    "training data is _identical_ to the model, each point will have a distance\n",
    "of zero. The inverse of zero is infinity, so running training data on\n",
    "the model will yield **100%** accuracy.\n",
    "\n",
    "This is a good example to show why we need separate training data!\n",
    "\n",
    "_Note: The test data is slightly different than the Part B.1 but is still\n",
    "      reasonable._"
   ]
  },
  {
   "cell_type": "markdown",
   "metadata": {},
   "source": [
    "<h1>Part C. Combining Models (8 marks)</h1>"
   ]
  },
  {
   "cell_type": "markdown",
   "metadata": {},
   "source": [
    "The goal of this section is to try to maximize our defect prediction accuracy on NASA dataset, by combining three models in Part A: (Logistic Regression, Gaussian Naive Bayes, and K-Nearest Neighbour) into one prediction.\n",
    "\n",
    "To do so, you need to implement a function, called Combine, that returns the weighted average votes, for any three models that it receives. \n",
    "\n",
    "Combine works as follows: \n",
    "\n",
    "1) Each model is trained individually \n",
    "\n",
    "2) Each model predicts the test set data points and calculates estimation probabilities as given by the models\n",
    "\n",
    "3) The final score per data point in the test set is calculated by the following formula:\n",
    "\n",
    "score=Sum(predict_i*probability_i)/3)\n",
    "\n",
    "where predict_i is the prediction by model_i (predictions are either -1 OR +1 for the two binary classes) and probability_i is the estimation probability (predict_proba) given by model_i.\n",
    "\n",
    "4) The weighted average vote is ZERO if the score is less than or equal to zero otherwise the weighted average vote is ONE\n",
    "\n",
    "\n",
    "Finally, calculate the accuracy of the combined model on the test data as follows:\n",
    "\n",
    "    Accuracy= number_of_correct_prediction / total_number_of_predictions \n",
    "    \n",
    "All three models should be called by their default parameters as in Part A.\n",
    "    \n",
    "The same as Part A run the Combine model 30 times (with different random seeds) and visualize the results beside the individual models' results, from Part A with a pandas boxplot.\n",
    "\n",
    "<font color='red'>Note1: Use numpy and Pandas as much as possible to increase performance </font>\n",
    "\n",
    "\n"
   ]
  },
  {
   "cell_type": "code",
   "execution_count": 133,
   "metadata": {},
   "outputs": [
    {
     "data": {
      "image/png": "[encoded data removed]",
      "text/plain": [
       "<matplotlib.figure.Figure at 0x7f9af76ac4a8>"
      ]
     },
     "metadata": {},
     "output_type": "display_data"
    }
   ],
   "source": [
    "from sklearn.metrics import accuracy_score\n",
    "\n",
    "def combine(model_1, model_2, model_3, count):\n",
    "    \"\"\"\n",
    "    Generates a weighted prediction from 3 models\n",
    "    \"\"\"\n",
    "    scores = []\n",
    "    for seed in range(1, count + 1):\n",
    "        vote_df = pd.DataFrame()\n",
    "        for m in [model_1, model_2, model_3]:\n",
    "            model = m()\n",
    "            # take 75% of data as training set and 25% of as test set\n",
    "            X_train, X_test, y_train, y_test = train_test_split(\n",
    "                nasa_df.drop('label', axis=1), nasa_df['label'], test_size=0.25, random_state=seed)\n",
    "            # train model\n",
    "            model.fit(X_train, y_train)\n",
    "            # predict class and probability\n",
    "            preds = model.predict(X_test)\n",
    "            probs = model.predict_proba(X_test)\n",
    "            # calcuate weighted vote\n",
    "            votes = []\n",
    "            for i, p in enumerate(preds):\n",
    "                if p == 1:\n",
    "                    votes.append(probs[i][1])\n",
    "                elif p == 0:\n",
    "                    votes.append(-1 * probs[i][0])\n",
    "                else:\n",
    "                    raise RuntimeError(\"Invalid prediction class, \", p)\n",
    "            vote_df[m.__name__ + '_v'] = votes\n",
    "\n",
    "        # average the votes from each model and round to 0 or 1 for combined prediction\n",
    "        y_pred = vote_df.mean(axis=1).apply(np.ceil).apply(np.absolute)\n",
    "        \n",
    "        # score prediction\n",
    "        scores.append(accuracy_score(y_test, y_pred))\n",
    "    return scores\n",
    "\n",
    "# add combined scores to existing dataframe from Part A\n",
    "model_dist_df[\"Combined\"] = combine(LogisticRegression, GaussianNB, KNeighborsClassifier, 30)\n",
    "\n",
    "# plot data\n",
    "ax = model_dist_df.plot.box(\n",
    "    figsize=(8, 10),\n",
    "    grid=True,\n",
    "    patch_artist=True,\n",
    "    flierprops={'markerfacecolor': '#ff7f00', 'marker': '^', 'alpha': 0.6},\n",
    "    color=dict(boxes='lightskyblue', whiskers='mediumpurple', medians='yellow')\n",
    ")\n",
    "ax.set_title('Comparison of Scikit-Learn NASA Data Models')\n",
    "ax.title.set_fontsize(16)\n",
    "ax.set_ylabel('Accuracy')\n",
    "ax.set_xlabel('Model')\n",
    "ax.yaxis.label.set_fontsize(14)\n",
    "ax.xaxis.label.set_fontsize(14)"
   ]
  },
  {
   "cell_type": "markdown",
   "metadata": {},
   "source": [
    "<h1>Part D. Regression (4 marks)</h1>\n"
   ]
  },
  {
   "cell_type": "markdown",
   "metadata": {},
   "source": [
    "In this section, we will use a new data set which is related to the performance of several CPUs. These CPUs are of different specifications, and you have the estimated relative performance(ERP) metric per CPU, in this data set.\n",
    "\n",
    "columns of data set are as follows:\n",
    "\n",
    "    MYCT: machine cycle time in nanoseconds (integer) \n",
    "    MMIN: minimum main memory in kilobytes (integer) \n",
    "    MMAX: maximum main memory in kilobytes (integer) \n",
    "    CACH: cache memory in kilobytes (integer) \n",
    "    CHMIN: minimum channels in units (integer) \n",
    "    CHMAX: maximum channels in units (integer) \n",
    "    PRP: published relative performance (integer) \n",
    "    ERP: estimated relative performance from the original article (integer)\n",
    "\n"
   ]
  },
  {
   "cell_type": "markdown",
   "metadata": {},
   "source": [
    "<h2>Part D.1. Ridge (2 marks)</h2>\n",
    "<br>\n",
    "Read the data that is given to you as a CSV file (\"CPU_Performance.csv\") and take 75% of it as training set and 25% of it as test set with random_state=42. Use default Linear Regression and Linear Regression with Ridge regularization, separately, to predict ERP using the other columns as features. Print the score of these two models on training set and test set data. \n",
    "\n",
    "Use the default setup for the models.\n"
   ]
  },
  {
   "cell_type": "code",
   "execution_count": 152,
   "metadata": {},
   "outputs": [
    {
     "name": "stdout",
     "output_type": "stream",
     "text": [
      "Predict ERP using default Linear Regression\n",
      "--\n",
      "Training set score: 0.96\n",
      "Test set score: 0.89\n",
      "\n",
      "\n",
      "Predict ERP using Linear Regression with Ridge regularization\n",
      "--\n",
      "Training set score: 0.96\n",
      "Test set score: 0.89\n"
     ]
    }
   ],
   "source": [
    "from sklearn.linear_model import LinearRegression, Ridge\n",
    "\n",
    "# load file into dataframe\n",
    "cpu_path = \"CPU_Performance.csv\"\n",
    "try:\n",
    "    cpu_df = pd.read_csv(cpu_path)\n",
    "except FileNotFoundError as e:\n",
    "    print(e)\n",
    "    \n",
    "# take 75% of data as training set and 25% of as test set\n",
    "seed = 42\n",
    "X_train, X_test, y_train, y_test = train_test_split(\n",
    "    cpu_df.drop('ERP', axis=1), cpu_df['ERP'], test_size=0.25, random_state=seed)    \n",
    "\n",
    "# predict ERP using default Linear Regression\n",
    "lr = LinearRegression().fit(X_train, y_train)\n",
    "\n",
    "# print scores\n",
    "print(\"Predict ERP using default Linear Regression\\n--\")\n",
    "print(\"Training set score: {:.2f}\".format(lr.score(X_train, y_train)))\n",
    "print(\"Test set score: {:.2f}\\n\\n\".format(lr.score(X_test, y_test)))\n",
    "\n",
    "# predict ERP using Linear Regression with Ridge regularization\n",
    "ridge = Ridge().fit(X_train, y_train)\n",
    "\n",
    "# print scores\n",
    "print(\"Predict ERP using Linear Regression with Ridge regularization\\n--\")\n",
    "print(\"Training set score: {:.2f}\".format(ridge.score(X_train, y_train)))\n",
    "print(\"Test set score: {:.2f}\".format(ridge.score(X_test, y_test)))  \n",
    "    "
   ]
  },
  {
   "cell_type": "markdown",
   "metadata": {},
   "source": [
    "<h2>Part D.2. Lasso (2 marks)</h2>\n"
   ]
  },
  {
   "cell_type": "markdown",
   "metadata": {},
   "source": [
    "In this section, first tune your Ridge model from PartD.1, using the regularization parameter, to improve R^2. \n",
    "\n",
    "Then use Linear Regression with Lasso regularization on the same train and test set. Tune Lasso to minimize the number of selected features but still achieve higher R^2 than the basic Linear regression results in Part D.1.\n",
    "\n",
    "Report the R^2 and the selected features.\n",
    "\n",
    "\n"
   ]
  },
  {
   "cell_type": "markdown",
   "metadata": {},
   "source": [
    "### Lasso Results\n",
    "\n",
    "- Training set score: 0.95\n",
    "- Test set score: 0.90\n",
    "- Number of features used: 5\n",
    "\n",
    "#### Coefficient Values\n",
    "- MYCT:  0.0227430119859\n",
    "- MMIN:  0.0068759799573\n",
    "- MMAX:  0.00450924665854\n",
    "- CACH:  0.275114918064\n",
    "- CHMIN:  0.0\n",
    "- CHMAX:  0.0\n",
    "- PRP:  0.309439664464\n",
    "\n",
    "#### Selected Features\n",
    "MYCT, MMIN, MMAX, CACH, PRP"
   ]
  },
  {
   "cell_type": "code",
   "execution_count": 172,
   "metadata": {
    "scrolled": true
   },
   "outputs": [
    {
     "name": "stdout",
     "output_type": "stream",
     "text": [
      "Predict ERP using Ridge Regression ** fine tuned **\n",
      "--\n",
      "Training set score: 0.95\n",
      "Test set score: 0.91\n",
      "\n",
      "\n",
      "Predict ERP using Lasso Regression ** fine tuned **\n",
      "--\n",
      "Training set score: 0.95\n",
      "Test set score: 0.90\n",
      "Number of features used: 5\n",
      "\n",
      "Coefficients\n",
      "MYCT :\t 0.0227430119859\n",
      "MMIN :\t 0.0068759799573\n",
      "MMAX :\t 0.00450924665854\n",
      "CACH :\t 0.275114918064\n",
      "CHMIN :\t 0.0\n",
      "CHMAX :\t 0.0\n",
      "PRP :\t 0.309439664464\n"
     ]
    }
   ],
   "source": [
    "from sklearn.linear_model import Lasso\n",
    "\n",
    "# # fine tune Ridge model\n",
    "# print(\n",
    "# \"\"\"\n",
    "# ###\n",
    "# Running Ridge tests\n",
    "# ###\n",
    "# \"\"\"\n",
    "# )\n",
    "# for i, a in enumerate([10**x for x in range(-15, 15)]):\n",
    "#     # fit\n",
    "#     ridge = Ridge(alpha=a).fit(X_train, y_train)\n",
    "#     # check results\n",
    "#     train_score = ridge.score(X_train, y_train)\n",
    "#     test_score = ridge.score(X_test, y_test)\n",
    "#     print(\"alpha: {0}, Training: {1}, Test: {2}\".format(a, train_score, test_score))\n",
    "    \n",
    "# the best value for alpha from my test is 10000\n",
    "# - training score: 0.9544344738533518\n",
    "# - test score: 0.9062083162164196\n",
    "\n",
    "# fine tuned Ridge Regression\n",
    "ridge = Ridge(alpha=10000).fit(X_train, y_train)\n",
    "\n",
    "# print (improved) scores\n",
    "print(\"Predict ERP using Ridge Regression ** fine tuned **\\n--\")\n",
    "print(\"Training set score: {:.2f}\".format(ridge.score(X_train, y_train)))\n",
    "print(\"Test set score: {:.2f}\\n\\n\".format(ridge.score(X_test, y_test))) \n",
    "\n",
    "# # fine tune Lasso model\n",
    "# print(\n",
    "# \"\"\"\n",
    "# ###\n",
    "# Running Lasso tests\n",
    "# ###\n",
    "# \"\"\"\n",
    "# )\n",
    "# for i, a in enumerate([10**x for x in range(-15, 15)]):\n",
    "#     # fit\n",
    "#     lasso = Lasso(alpha=a, max_iter=100000).fit(X_train, y_train)\n",
    "#     # check results\n",
    "#     train_score = lasso.score(X_train, y_train)\n",
    "#     test_score = lasso.score(X_test, y_test)\n",
    "#     features = np.sum(lasso.coef_ != 0)\n",
    "#     print(\"alpha: {0}, Training: {1}, Test: {2}, Features: {3}\".format(a, train_score, test_score, features))\n",
    "\n",
    "# the best value for alpha that minimizes features from my test is 100\n",
    "# - training score: 0.9518310310681333\n",
    "# - test score: 0.901485311910791\n",
    "# - features: 5\n",
    "\n",
    "# fine tuned Lasso Regression\n",
    "lasso = Lasso(alpha=100).fit(X_train, y_train)\n",
    "\n",
    "print(\"Predict ERP using Lasso Regression ** fine tuned **\\n--\")\n",
    "print(\"Training set score: {:.2f}\".format(lasso.score(X_train, y_train)))\n",
    "print(\"Test set score: {:.2f}\".format(lasso.score(X_test, y_test)))\n",
    "print(\"Number of features used: {0}\\n\".format(np.sum(lasso.coef_ != 0))) \n",
    "\n",
    "print(\"Coefficients\")\n",
    "for c,col in zip(lasso.coef_, cpu_df.columns):\n",
    "    print(col, \":\\t\", c)"
   ]
  },
  {
   "cell_type": "code",
   "execution_count": null,
   "metadata": {},
   "outputs": [],
   "source": []
  }
 ],
 "metadata": {
  "kernelspec": {
   "display_name": "Python 3",
   "language": "python",
   "name": "python3"
  },
  "language_info": {
   "codemirror_mode": {
    "name": "ipython",
    "version": 3
   },
   "file_extension": ".py",
   "mimetype": "text/x-python",
   "name": "python",
   "nbconvert_exporter": "python",
   "pygments_lexer": "ipython3",
   "version": "3.6.4"
  }
 },
 "nbformat": 4,
 "nbformat_minor": 2
}
