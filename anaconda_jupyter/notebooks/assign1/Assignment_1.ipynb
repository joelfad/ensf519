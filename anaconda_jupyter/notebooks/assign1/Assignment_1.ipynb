{
 "cells": [
  {
   "cell_type": "markdown",
   "metadata": {},
   "source": [
    "<h1> <center> ENSF 519.01 Applied Data Scince </center></h1>\n",
    "<h2> <center> Assignment 1: Working with data (25 marks)</center></h2>\n",
    "<h2> <center> Due: Friday Feb 2nd at 4pm. to be submitted on D2L </center></h2>\n",
    "<h2> <center> <font color='red'>IMPORTANT NOTE: each task must be implemented exactly as asked, even if there are other easier or better solutions.</font> </center></h2>"
   ]
  },
  {
   "cell_type": "markdown",
   "metadata": {},
   "source": [
    "Assume you are working as a data engineering intern for a news agancy. The project you are involved at requires some data collection, cleaning, and visualization, regarding top movies and directors from IMDB dataset, which you need to deliver in Parts A to E, in this assignment. \n"
   ]
  },
  {
   "cell_type": "markdown",
   "metadata": {},
   "source": [
    "<h1>Part A. Predict Oscar 2018's Nominees (5 marks)</h1>\n",
    "<br>\n",
    "\n",
    "Your duty starts with generating a list of potential nominees for best picture award at Oscar 2018, which are among movies that were produced in the last year(2017). The list should consist of the top rated movies based on people’s opinion. You can find the 2017 movies which were among the top 250 movies in the IMDB website. So you need to get the movie data first and then process them to generate the desired list.\n",
    "\n",
    "To retrieve the data from IMDB you can use the following links that help you start working with imdb python API:\n",
    "    \n",
    "    to install imdb package see:\n",
    "   <a href=\"https://imdbpy.sourceforge.io/\">imdbpy.sourceforge.io/</a> \n",
    "\n",
    "    document:\n",
    "   <a href=\"https://github.com/alberanid/imdbpy\">github.com/alberanid/imdbpy</a> \n",
    "   \n",
    "Or you can install imdb package on notebook by running the following cmd:\n",
    "\n",
    "!pip install git+https://github.com/alberanid/imdbpy"
   ]
  },
  {
   "cell_type": "markdown",
   "metadata": {},
   "source": [
    "<h2>Part A.1. Getting last year's top movies, using imdbpy API (3 marks)</h2>\n",
    "\n",
    "In this section, using imdbpy API, NumPy and standard python, you should create a list of movies which were produced in the last year and were among the top 250 IMDB movies in the following format:\n",
    "\n",
    "    [{'title': 'Coco', 'rating': 8.5, 'director': ['Lee Unkrich', 'Adrian Molina']}, {NEXT_MOVIE_DICTIONARY},...,{}] \n",
    "It means you should return a list of python dictionaries, where each dictionary stores a movie's title, rating and directors list. \n",
    "\n",
    "</br>\n",
    "</br>\n",
    "<font color='red'>Note: In this part you must properly use NumPy data structures and functions.</font>"
   ]
  },
  {
   "cell_type": "code",
   "execution_count": null,
   "metadata": {
    "collapsed": true
   },
   "outputs": [],
   "source": [
    "## Part A.1. Solution\n",
    "\n"
   ]
  },
  {
   "cell_type": "markdown",
   "metadata": {},
   "source": [
    "<h2>Part A.2. Python's \"Filter\" and \"Lambda Functions\" (2 marks)</h2>\n",
    "\n",
    "The next step is to filter out movies with ratings less than 8.2. Use python's filter function on top of your Part A.1 list, to make a list of dictionaries(which represent movies) with rating>=8.2. \n"
   ]
  },
  {
   "cell_type": "code",
   "execution_count": null,
   "metadata": {
    "collapsed": true
   },
   "outputs": [],
   "source": [
    "## Part A.2. Solution\n",
    "\n"
   ]
  },
  {
   "cell_type": "markdown",
   "metadata": {},
   "source": [
    "<h1>Part B. Web Scraping with BeautifulSoup (3 marks)</h1>\n",
    "\n",
    "In this part you need to work with BeautifulSoup. \n",
    "\n",
    "The task is to find the best director of all times, based on the people's choice.\n",
    "\n",
    "To get the required data you must first write a code to scrape the following webpage (Directors with the Most Films in the IMDb Top 250) and store the extracted table (directors names and their top films) in a Pandas dataframe: \n",
    "\n",
    "   <a href=\"http://www.imdb.com/list/ls033369077/\">http://www.imdb.com/list/ls033369077/</a>  \n",
    "        \n",
    "You should store your table as follows: director_name, movie_title (e.g. for alfred hitchcock you should have the following rows in your Dataframe)\n",
    "\n",
    "            Director_Name         Movie_Title\n",
    "    0.    Alfred Hitchcock       Psycho (1960)\n",
    "    1.    Alfred Hitchcock       Rear window (1954)\n",
    "    2.    Alfred Hitchcock       North by northwest (1959)\n",
    "    3.    Alfred Hitchcock       Vertigo (1958)\n",
    "    4.    Alfred Hitchcock       Rebecca (1940)\n",
    "    5.    Alfred Hitchcock       Dial m for murder (1954)\n",
    "    6.    Alfred Hitchcock       Strangers on a train (1951)\n",
    "    7.    Alfred Hitchcock       Notorious (1946)\n",
    "\n",
    "<font color='red'>Reminder: use urllib.request and BeautifulSoup to read and parse the webpage data. BeautifulSoup needs to be installed first.</font>"
   ]
  },
  {
   "cell_type": "code",
   "execution_count": null,
   "metadata": {
    "collapsed": true,
    "scrolled": true
   },
   "outputs": [],
   "source": [
    "## Part B. Solution\n"
   ]
  },
  {
   "cell_type": "markdown",
   "metadata": {},
   "source": [
    "<h1>Part C. Working with Pandas (8 marks)</h1>"
   ]
  },
  {
   "cell_type": "markdown",
   "metadata": {},
   "source": [
    "In this section, we continue using the scraped datset from Part B. to rank the best directors, in two steps:\n",
    "\n",
    "<h2>Part C.1. Hadling Missing Data in Pandas (6 marks)</h2>\n",
    "<br>\n",
    "In this section, you need to add the \"IMDB ID\" and Production Year of each movie, as two new columns, to your (director,movie) dataframe from Part B.1.(You should use IMDBPY API to fetch the ID and the Year of each movie) <b>(1 mark)</b>\n"
   ]
  },
  {
   "cell_type": "code",
   "execution_count": null,
   "metadata": {
    "collapsed": true
   },
   "outputs": [],
   "source": [
    "## Part C.1. Solution\n",
    "## Adding \"IMDB ID\" and Production Year \n",
    "\n"
   ]
  },
  {
   "cell_type": "markdown",
   "metadata": {},
   "source": [
    "You will see that some entries have missing IDs.\n",
    "- Explian why this has happened. <b>(1 mark)</b>"
   ]
  },
  {
   "cell_type": "markdown",
   "metadata": {},
   "source": [
    "<h3> your answer:</h3>"
   ]
  },
  {
   "cell_type": "markdown",
   "metadata": {},
   "source": [
    "....."
   ]
  },
  {
   "cell_type": "markdown",
   "metadata": {},
   "source": [
    "- Provide two solutions to solve this: \n",
    "a)  by ignoring the movies that are missing IDs <b>(1 mark)</b> "
   ]
  },
  {
   "cell_type": "code",
   "execution_count": 1,
   "metadata": {
    "collapsed": true,
    "scrolled": false
   },
   "outputs": [],
   "source": [
    "## Part C.1. Solution cont.\n",
    "## Part C.1.a) ignoring the movies that are missing IDs \n",
    "\n"
   ]
  },
  {
   "cell_type": "markdown",
   "metadata": {},
   "source": [
    "and b)  by fixing your script to find the correct IDs using string manipulation. <b>(2 mark)</b>\n",
    "\n"
   ]
  },
  {
   "cell_type": "code",
   "execution_count": 2,
   "metadata": {
    "collapsed": true
   },
   "outputs": [],
   "source": [
    "## Part C.1. Solution cont.\n",
    "## Part C.1.b) fixing your script to find the correct IDs using string manipulation \n",
    "\n",
    "\n"
   ]
  },
  {
   "cell_type": "markdown",
   "metadata": {},
   "source": [
    "Finally set the dataframe's index as the IMDB IDs. <b>(1 mark)</b>"
   ]
  },
  {
   "cell_type": "code",
   "execution_count": null,
   "metadata": {
    "collapsed": true
   },
   "outputs": [],
   "source": [
    "## Part C.1. Solution cont.\n",
    "## set index\n",
    "\n"
   ]
  },
  {
   "cell_type": "markdown",
   "metadata": {},
   "source": [
    "<h2>Part C.2. Groupby in Pandas (2 marks)</h2>\n",
    "\n",
    "<br>\n",
    "Finally, you need to count the number of movies per director, in the generated dataframe from Part C.1., and then sort the table based on the number of movies and print the head() of the list."
   ]
  },
  {
   "cell_type": "code",
   "execution_count": 3,
   "metadata": {
    "collapsed": true
   },
   "outputs": [],
   "source": [
    "## Part C.2. Solution.\n",
    "\n"
   ]
  },
  {
   "cell_type": "markdown",
   "metadata": {},
   "source": [
    "<h1>Part D. Merging DataFrames (4 marks)</h1>"
   ]
  },
  {
   "cell_type": "markdown",
   "metadata": {},
   "source": [
    "In this part, we want to find out if any of the directors that we have in our list of best directors, in Part C.2., has produced any movie in 2017 that is also in our list of nominees from Part A.2. To do so you need to make a new dataframe from the table that you had in part A.2. The new dataframe keeps a separate entry for each movie per director, if the movie has more than one director. This means that you should split the rows which have several directors to several rows. <b>(2 marks)</b>\n",
    "\n",
    "For example, this row {'title': 'Coco', 'rating': 8.5, 'director': ['Lee Unkrich', 'Adrian Molina']} becomes the following two rows:\n",
    "\n",
    "0  8.5  coco  Lee  Unkrich  \n",
    "\n",
    "1  8.5  coco  Adrian  Molina  \n",
    "\n"
   ]
  },
  {
   "cell_type": "code",
   "execution_count": 4,
   "metadata": {
    "collapsed": true,
    "scrolled": true
   },
   "outputs": [],
   "source": [
    "## Part D Solution.\n",
    "## Creating the new DataFrame\n",
    "\n"
   ]
  },
  {
   "cell_type": "markdown",
   "metadata": {},
   "source": [
    "Now to find out if any of the best directors has produced a movie this year which is among top250, you need to perform a merge operation on the dataframe that you just generated and the dataframe that you have from part C.2. <b>(2 marks)</b>\n",
    "\n",
    "Your code should return a Pandas series of directors. "
   ]
  },
  {
   "cell_type": "code",
   "execution_count": 5,
   "metadata": {
    "collapsed": true
   },
   "outputs": [],
   "source": [
    "## Part D Solution cont.\n",
    "## Merging\n",
    "\n"
   ]
  },
  {
   "cell_type": "markdown",
   "metadata": {},
   "source": [
    "<h1>Part E. Visualization - Using Mathplotlib (5 marks)</h1>"
   ]
  },
  {
   "cell_type": "markdown",
   "metadata": {},
   "source": [
    "In this part we want to generate some Basic visualization of the data that we collected in the previous parts.\n"
   ]
  },
  {
   "cell_type": "markdown",
   "metadata": {},
   "source": [
    "<h2>Part E.1 Barplot (2 marks) </h2>\n",
    "<br>\n",
    "Using matplotlib, draw a barplot that shows the number of movies that were among the top250 in each year.\n",
    "\n",
    "To do so, you should first generate a dataframe that stores information about the imdb top250 movies as their title, year of production, and rate of imdb. Then using groupyby you create a new dataframe which aggregates the number of movies per year, as follows, where \"rating\" is the mean of all movies, per year:\n",
    "\n",
    "                           year  rating  count\n",
    "                        0  1921    8.30      1\n",
    "                        1  1925    8.20      1\n",
    "                        2  1926    8.10      1\n",
    "                        3  1927    8.15      2\n",
    "                        4  1928    8.10      1\n",
    "\n",
    "Note that barplot's X-axis shows the years and Y-axis shows the number of movies in each year which were among the imdb top250 movies."
   ]
  },
  {
   "cell_type": "code",
   "execution_count": 8,
   "metadata": {
    "collapsed": true
   },
   "outputs": [],
   "source": [
    "# Part E.1 Solution\n",
    "# Barplot code\n",
    "\n"
   ]
  },
  {
   "cell_type": "markdown",
   "metadata": {},
   "source": [
    "<h2>Part E.2 BoxPlot (3 marks)</h2>"
   ]
  },
  {
   "cell_type": "markdown",
   "metadata": {},
   "source": [
    "In this section, using boxplot, we want to visualize the distribution of Production Years for movies in the Part C.2. table, per director. The X-axis should represent the top 5 directors (as listed by head() in Part C.2). Use Directors' last names as the lables. The Y-axis represents the Production Year. Each Boxplot represents the distribution of product Year, per director.\n",
    "\n",
    "<font color='red'>Note: In this section you can only use matplotlib to draw the plot</font>"
   ]
  },
  {
   "cell_type": "code",
   "execution_count": 1,
   "metadata": {
    "collapsed": true
   },
   "outputs": [],
   "source": [
    "# Part E.2 Solution\n",
    "# Boxplot code\n",
    "    \n",
    "    "
   ]
  }
 ],
 "metadata": {
  "kernelspec": {
   "display_name": "Python 3",
   "language": "python",
   "name": "python3"
  },
  "language_info": {
   "codemirror_mode": {
    "name": "ipython",
    "version": 3
   },
   "file_extension": ".py",
   "mimetype": "text/x-python",
   "name": "python",
   "nbconvert_exporter": "python",
   "pygments_lexer": "ipython3",
   "version": "3.6.3"
  }
 },
 "nbformat": 4,
 "nbformat_minor": 2
}
