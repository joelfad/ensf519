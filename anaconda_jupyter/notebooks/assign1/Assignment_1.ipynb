{
 "cells": [
  {
   "cell_type": "markdown",
   "metadata": {},
   "source": [
    "<h1> <center> ENSF 519.01 Applied Data Scince </center></h1>\n",
    "<h2> <center> Assignment 1: Working with data (25 marks)</center></h2>\n",
    "<h2> <center> Due: Friday Feb 2nd at 4pm. to be submitted on D2L </center></h2>\n",
    "<h2> <center> <font color='red'>IMPORTANT NOTE: each task must be implemented exactly as asked, even if there are other easier or better solutions.</font> </center></h2>"
   ]
  },
  {
   "cell_type": "markdown",
   "metadata": {},
   "source": [
    "Assume you are working as a data engineering intern for a news agancy. The project you are involved at requires some data collection, cleaning, and visualization, regarding top movies and directors from IMDB dataset, which you need to deliver in Parts A to E, in this assignment. \n"
   ]
  },
  {
   "cell_type": "markdown",
   "metadata": {},
   "source": [
    "<h1>Part A. Predict Oscar 2018's Nominees (5 marks)</h1>\n",
    "<br>\n",
    "\n",
    "Your duty starts with generating a list of potential nominees for best picture award at Oscar 2018, which are among movies that were produced in the last year(2017). The list should consist of the top rated movies based on people’s opinion. You can find the 2017 movies which were among the top 250 movies in the IMDB website. So you need to get the movie data first and then process them to generate the desired list.\n",
    "\n",
    "To retrieve the data from IMDB you can use the following links that help you start working with imdb python API:\n",
    "    \n",
    "    to install imdb package see:\n",
    "   <a href=\"https://imdbpy.sourceforge.io/\">imdbpy.sourceforge.io/</a> \n",
    "\n",
    "    document:\n",
    "   <a href=\"https://github.com/alberanid/imdbpy\">github.com/alberanid/imdbpy</a> \n",
    "   \n",
    "Or you can install imdb package on notebook by running the following cmd:\n",
    "\n",
    "!pip install git+https://github.com/alberanid/imdbpy"
   ]
  },
  {
   "cell_type": "markdown",
   "metadata": {},
   "source": [
    "<h2>Part A.1. Getting last year's top movies, using imdbpy API (3 marks)</h2>\n",
    "\n",
    "In this section, using imdbpy API, NumPy and standard python, you should create a list of movies which were produced in the last year and were among the top 250 IMDB movies in the following format:\n",
    "\n",
    "    [{'title': 'Coco', 'rating': 8.5, 'director': ['Lee Unkrich', 'Adrian Molina']}, {NEXT_MOVIE_DICTIONARY},...,{}] \n",
    "It means you should return a list of python dictionaries, where each dictionary stores a movie's title, rating and directors list. \n",
    "\n",
    "</br>\n",
    "</br>\n",
    "<font color='red'>Note: In this part you must properly use NumPy data structures and functions.</font>"
   ]
  },
  {
   "cell_type": "code",
   "execution_count": 19,
   "metadata": {},
   "outputs": [
    {
     "name": "stdout",
     "output_type": "stream",
     "text": [
      "[ {'title': 'Coco', 'rating': 8.7, 'director': ['Lee Unkrich', 'Adrian Molina']}\n",
      " {'title': 'Three Billboards Outside Ebbing, Missouri', 'rating': 8.3, 'director': ['Martin McDonagh']}\n",
      " {'title': 'Blade Runner 2049', 'rating': 8.2, 'director': ['Denis Villeneuve']}\n",
      " {'title': 'Call Me by Your Name', 'rating': 8.3, 'director': ['Luca Guadagnino']}\n",
      " {'title': 'Logan', 'rating': 8.1, 'director': ['James Mangold']}\n",
      " {'title': 'Dunkirk', 'rating': 8.1, 'director': ['Christopher Nolan']}]\n"
     ]
    }
   ],
   "source": [
    "## Part A.1. Solution\n",
    "import numpy as np\n",
    "from imdb import IMDb\n",
    "\n",
    "# initialize IMDb\n",
    "ia = IMDb()\n",
    "\n",
    "# get top 250 movies of all time\n",
    "top_250_movies = ia.get_top250_movies()\n",
    "\n",
    "# filter for movies produced in 2017\n",
    "top_2017 = np.array(list(filter(lambda m: m.get('year') == 2017, top_250_movies)))\n",
    "\n",
    "# helper function to retrieve info given a movie ID\n",
    "def get_movie_values(ID):\n",
    "    movie = ia.get_movie(ID)\n",
    "    return {\n",
    "        'title': movie['title'],\n",
    "        'rating': movie['rating'],\n",
    "        'director': [d.get('name') for d in movie['director']]\n",
    "    }\n",
    "\n",
    "# clean up the list to only include 3 key/value pairs\n",
    "top_2017_cleaned = np.array([get_movie_values(m.getID()) for m in top_2017])\n",
    "\n",
    "print(top_2017_cleaned)"
   ]
  },
  {
   "cell_type": "markdown",
   "metadata": {},
   "source": [
    "<h2>Part A.2. Python's \"Filter\" and \"Lambda Functions\" (2 marks)</h2>\n",
    "\n",
    "The next step is to filter out movies with ratings less than 8.2. Use python's filter function on top of your Part A.1 list, to make a list of dictionaries(which represent movies) with rating>=8.2. \n"
   ]
  },
  {
   "cell_type": "code",
   "execution_count": 20,
   "metadata": {},
   "outputs": [
    {
     "name": "stdout",
     "output_type": "stream",
     "text": [
      "[ {'title': 'Coco', 'rating': 8.7, 'director': ['Lee Unkrich', 'Adrian Molina']}\n",
      " {'title': 'Three Billboards Outside Ebbing, Missouri', 'rating': 8.3, 'director': ['Martin McDonagh']}\n",
      " {'title': 'Blade Runner 2049', 'rating': 8.2, 'director': ['Denis Villeneuve']}\n",
      " {'title': 'Call Me by Your Name', 'rating': 8.3, 'director': ['Luca Guadagnino']}]\n"
     ]
    }
   ],
   "source": [
    "## Part A.2. Solution\n",
    "\n",
    "# filter for movies that have a rating >= 8.2\n",
    "top_2017_highrating = np.array(list(filter(lambda m: m['rating'] >= 8.2, top_2017_cleaned)))\n",
    "\n",
    "print(top_2017_highrating)"
   ]
  },
  {
   "cell_type": "markdown",
   "metadata": {},
   "source": [
    "<h1>Part B. Web Scraping with BeautifulSoup (3 marks)</h1>\n",
    "\n",
    "In this part you need to work with BeautifulSoup. \n",
    "\n",
    "The task is to find the best director of all times, based on the people's choice.\n",
    "\n",
    "To get the required data you must first write a code to scrape the following webpage (Directors with the Most Films in the IMDb Top 250) and store the extracted table (directors names and their top films) in a Pandas dataframe: \n",
    "\n",
    "   <a href=\"http://www.imdb.com/list/ls033369077/\">http://www.imdb.com/list/ls033369077/</a>  \n",
    "        \n",
    "You should store your table as follows: director_name, movie_title (e.g. for alfred hitchcock you should have the following rows in your Dataframe)\n",
    "\n",
    "            Director_Name         Movie_Title\n",
    "    0.    Alfred Hitchcock       Psycho (1960)\n",
    "    1.    Alfred Hitchcock       Rear window (1954)\n",
    "    2.    Alfred Hitchcock       North by northwest (1959)\n",
    "    3.    Alfred Hitchcock       Vertigo (1958)\n",
    "    4.    Alfred Hitchcock       Rebecca (1940)\n",
    "    5.    Alfred Hitchcock       Dial m for murder (1954)\n",
    "    6.    Alfred Hitchcock       Strangers on a train (1951)\n",
    "    7.    Alfred Hitchcock       Notorious (1946)\n",
    "\n",
    "<font color='red'>Reminder: use urllib.request and BeautifulSoup to read and parse the webpage data. BeautifulSoup needs to be installed first.</font>"
   ]
  },
  {
   "cell_type": "code",
   "execution_count": 63,
   "metadata": {
    "scrolled": true
   },
   "outputs": [
    {
     "name": "stdout",
     "output_type": "stream",
     "text": [
      "movie lists:  24\n",
      "['Alfred Hitchcock', 'Christopher Nolan', 'Steven Spielberg', 'Martin Scorsese', 'Stanley Kubrick', 'Akira Kurosawa', 'Hayao Miyazaki', 'Quentin Tarantino', 'Sergio Leone', 'Charles Chaplin', 'Billy Wilder', 'Ridley Scott', 'Ingmar Bergman', 'Francis Ford Coppola', 'Sidney Lumet', 'Peter Jackson', 'David Fincher', 'Frank Capra', 'James Cameron', 'Lee Unkrich', 'Pete Docter', 'Clint Eastwood', 'Joel Coen', 'William Wyler'] :  24\n",
      "Psycho (1960)\n",
      "Rear Window (1954)\n",
      "North by Northwest (1959)\n",
      "Vertigo (1958)\n",
      "Rebecca (1940)\n",
      "Dial M for Murder (1954)\n",
      "Strangers on a Train (1951)\n",
      "Notorious (1946)\n",
      "\n",
      "The Dark Knight (2008) \n",
      "Inception (2010)\n",
      "Interstellar (2014)\n",
      "Memento (2000)\n",
      "The Prestige (2006)\n",
      "The Dark Knight Rises (2012)\n",
      "Batman Begins (2005)\n",
      "\n",
      "Schindler's List (1993)\n",
      "Saving Private Ryan (1998)\n",
      "Raiders of the Lost Ark (1981)\n",
      "Indiana Jones and the Last Crusade (1989)\n",
      "Jurassic Park (1993)\n",
      "Jaws (1975)\n",
      "Catch Me If You Can (2002)\n",
      "\n",
      "Goodfellas (1990) 17\n",
      "The Departed (2006)\n",
      "Taxi Driver (1976)\n",
      "Raging Bull (1980)\n",
      "Casino (1995)\n",
      "The Wolf of Wall Street (2013)\n",
      "Shutter Island (2010)\n",
      "\n",
      "Dr. Strangelove or: How I Learned to Stop Worrying and Love the Bomb (1964)\n",
      "The Shining (1980)\n",
      "Paths of Glory (1957)\n",
      "A Clockwork Orange (1971)\n",
      "Full Metal Jacket (1987)\n",
      "2001: A Space Odyssey (1968)\n",
      "Barry Lyndon (1975)\n",
      "\n",
      "Shichinin no samurai (1954)\n",
      "Rashômon (1950)\n",
      "Yôjinbô (1961)\n",
      "Ikiru (1952)\n",
      "Ran (1985)\n",
      "Kumonosu-jô (1957)\n",
      "\n",
      "Sen to Chihiro no kamikakushi (2001)\n",
      "Mononoke-hime (1997)\n",
      "Tonari no Totoro (1988)\n",
      "Hauru no ugoku shiro (2004)\n",
      "Kaze no tani no Naushika (1984)\n",
      "Tenkû no shiro Rapyuta (1986)\n",
      "\n",
      "Pulp Fiction (1994)\n",
      "Django Unchained (2012)\n",
      "Reservoir Dogs (1992)\n",
      "Inglourious Basterds (2009)\n",
      "Kill Bill: Vol. 1 (2003)\n",
      "\n",
      "Il buono, il brutto, il cattivo (1966)\n",
      "C'era una volta il West (1968)\n",
      "Once Upon a Time in America (1984)\n",
      "Per qualche dollaro in più (1965)\n",
      "Per un pugno di dollari (1964)\n",
      "\n",
      "City Lights (1931)\n",
      "Modern Times (1936)\n",
      "The Great Dictator (1940)\n",
      "The Kid (1921)\n",
      "The Gold Rush (1925)\n",
      "\n",
      "Sunset Blvd. (1950)\n",
      "Witness for the Prosecution (1957)\n",
      "Double Indemnity (1944)\n",
      "The Apartment (1960)\n",
      "Some Like It Hot (1959)\n",
      "\n",
      "Gladiator (2000)\n",
      "Alien (1979)\n",
      "Blade Runner (1982)\n",
      "The Martian (2015)\n",
      "\n",
      "Det sjunde inseglet (1957)\n",
      "Smultronstället (1957)\n",
      "Persona (1966)\n",
      "Fanny och Alexander (1982)\n",
      "\n",
      "The Godfather (1972)\n",
      "The Godfather: Part II (1974)\n",
      "Apocalypse Now (1979)\n",
      "\n",
      "12 Angry Men (1957)\n",
      "Network (1976)\n",
      "Dog Day Afternoon (1975)\n",
      "\n",
      "The Lord of the Rings: The Return of the King (2003)\n",
      "The Lord of the Rings: The Fellowship of the Ring (2001)\n",
      "The Lord of the Rings: The Two Towers (2002)\n",
      "\n",
      "Fight Club (1999)\n",
      "Se7en (1995)\n",
      "Gone Girl (2014)\n",
      "\n",
      "It's a Wonderful Life (1946)\n",
      "Mr. Smith Goes to Washington (1939)\n",
      "It Happened One Night (1934)\n",
      "\n",
      "Terminator 2: Judgment Day (1991)\n",
      "Aliens (1986)\n",
      "The Terminator (1984)\n",
      "\n",
      "Toy Story 3 (2010)\n",
      "Finding Nemo (2003) (co-director)\n",
      "Monsters, Inc. (2001) (co-director)\n",
      "\n",
      "Inside Out (2015)\n",
      "Up (2009)\n",
      "Monsters, Inc. (2001)\n",
      "\n",
      "Unforgiven (1992)\n",
      "Gran Torino (2008)\n",
      "Million Dollar Baby (2004)\n",
      "\n",
      "The Big Lebowski (1998)\n",
      "Fargo (1996)\n",
      "No Country for Old Men (2007)\n",
      "\n",
      "Ben-Hur (1959)\n",
      "The Best Years of Our Lives (1946)\n",
      "Roman Holiday (1953)\n",
      "\n"
     ]
    }
   ],
   "source": [
    "## Part B. Solution\n",
    "\n",
    "from urllib.request import urlopen\n",
    "from bs4 import BeautifulSoup\n",
    "import re\n",
    "\n",
    "# get list of directors\n",
    "html = urlopen(\"http://www.imdb.com/list/ls033369077/\")\n",
    "soup = BeautifulSoup(html, \"html.parser\")\n",
    "x = soup.find_all(\"h3\", {\"class\": \"lister-item-header\"})\n",
    "names = [e.get_text() for e in x]\n",
    "names_cleaned = [re.sub(r\"^\\s\\d*.\\s*|\\s*$\", '', n) for n in names]\n",
    "\n",
    "# get list of movie lists\n",
    "y = soup.find_all(\"div\", {\"class\": \"list-description\"})\n",
    "movie_lists = [str(result).split('\\n') for result in y]\n",
    "for i,l in enumerate(movie_lists):\n",
    "    for j,m in enumerate(l):\n",
    "        if (j == 0):\n",
    "            movie_lists[i][j] = \"\\n\".join(m.split(\"<br/><br/>\")[1:])\n",
    "        else:\n",
    "            movie_lists[i][j] = re.sub(r\"<.*>$\", \"\", m)\n",
    "\n",
    "print(\"movie lists: \", len(movie_lists))\n",
    "\n",
    "# print directors\n",
    "print(names_cleaned, \": \", len(names_cleaned))\n",
    "            \n",
    "# print movie lists\n",
    "for l in movie_lists:\n",
    "    for m in l:\n",
    "        print(m)\n",
    "    print();\n",
    "\n",
    "\n",
    "\n",
    "# turn into a Pandas dataframe\n",
    "\n",
    "\n",
    "\n",
    "\n",
    "\n"
   ]
  },
  {
   "cell_type": "markdown",
   "metadata": {},
   "source": [
    "<h1>Part C. Working with Pandas (8 marks)</h1>"
   ]
  },
  {
   "cell_type": "markdown",
   "metadata": {},
   "source": [
    "In this section, we continue using the scraped datset from Part B. to rank the best directors, in two steps:\n",
    "\n",
    "<h2>Part C.1. Hadling Missing Data in Pandas (6 marks)</h2>\n",
    "<br>\n",
    "In this section, you need to add the \"IMDB ID\" and Production Year of each movie, as two new columns, to your (director,movie) dataframe from Part B.1.(You should use IMDBPY API to fetch the ID and the Year of each movie) <b>(1 mark)</b>\n"
   ]
  },
  {
   "cell_type": "code",
   "execution_count": 4,
   "metadata": {},
   "outputs": [],
   "source": [
    "## Part C.1. Solution\n",
    "## Adding \"IMDB ID\" and Production Year \n",
    "\n"
   ]
  },
  {
   "cell_type": "markdown",
   "metadata": {},
   "source": [
    "You will see that some entries have missing IDs.\n",
    "- Explian why this has happened. <b>(1 mark)</b>"
   ]
  },
  {
   "cell_type": "markdown",
   "metadata": {},
   "source": [
    "<h3> your answer:</h3>"
   ]
  },
  {
   "cell_type": "markdown",
   "metadata": {},
   "source": [
    "....."
   ]
  },
  {
   "cell_type": "markdown",
   "metadata": {},
   "source": [
    "- Provide two solutions to solve this: \n",
    "a)  by ignoring the movies that are missing IDs <b>(1 mark)</b> "
   ]
  },
  {
   "cell_type": "code",
   "execution_count": 5,
   "metadata": {
    "scrolled": false
   },
   "outputs": [],
   "source": [
    "## Part C.1. Solution cont.\n",
    "## Part C.1.a) ignoring the movies that are missing IDs \n",
    "\n"
   ]
  },
  {
   "cell_type": "markdown",
   "metadata": {},
   "source": [
    "and b)  by fixing your script to find the correct IDs using string manipulation. <b>(2 mark)</b>\n",
    "\n"
   ]
  },
  {
   "cell_type": "code",
   "execution_count": 6,
   "metadata": {},
   "outputs": [],
   "source": [
    "## Part C.1. Solution cont.\n",
    "## Part C.1.b) fixing your script to find the correct IDs using string manipulation \n",
    "\n",
    "\n"
   ]
  },
  {
   "cell_type": "markdown",
   "metadata": {},
   "source": [
    "Finally set the dataframe's index as the IMDB IDs. <b>(1 mark)</b>"
   ]
  },
  {
   "cell_type": "code",
   "execution_count": 7,
   "metadata": {},
   "outputs": [],
   "source": [
    "## Part C.1. Solution cont.\n",
    "## set index\n",
    "\n"
   ]
  },
  {
   "cell_type": "markdown",
   "metadata": {},
   "source": [
    "<h2>Part C.2. Groupby in Pandas (2 marks)</h2>\n",
    "\n",
    "<br>\n",
    "Finally, you need to count the number of movies per director, in the generated dataframe from Part C.1., and then sort the table based on the number of movies and print the head() of the list."
   ]
  },
  {
   "cell_type": "code",
   "execution_count": 8,
   "metadata": {},
   "outputs": [],
   "source": [
    "## Part C.2. Solution.\n",
    "\n"
   ]
  },
  {
   "cell_type": "markdown",
   "metadata": {},
   "source": [
    "<h1>Part D. Merging DataFrames (4 marks)</h1>"
   ]
  },
  {
   "cell_type": "markdown",
   "metadata": {},
   "source": [
    "In this part, we want to find out if any of the directors that we have in our list of best directors, in Part C.2., has produced any movie in 2017 that is also in our list of nominees from Part A.2. To do so you need to make a new dataframe from the table that you had in part A.2. The new dataframe keeps a separate entry for each movie per director, if the movie has more than one director. This means that you should split the rows which have several directors to several rows. <b>(2 marks)</b>\n",
    "\n",
    "For example, this row {'title': 'Coco', 'rating': 8.5, 'director': ['Lee Unkrich', 'Adrian Molina']} becomes the following two rows:\n",
    "\n",
    "0  8.5  coco  Lee  Unkrich  \n",
    "\n",
    "1  8.5  coco  Adrian  Molina  \n",
    "\n"
   ]
  },
  {
   "cell_type": "code",
   "execution_count": 9,
   "metadata": {
    "scrolled": true
   },
   "outputs": [],
   "source": [
    "## Part D Solution.\n",
    "## Creating the new DataFrame\n",
    "\n"
   ]
  },
  {
   "cell_type": "markdown",
   "metadata": {},
   "source": [
    "Now to find out if any of the best directors has produced a movie this year which is among top250, you need to perform a merge operation on the dataframe that you just generated and the dataframe that you have from part C.2. <b>(2 marks)</b>\n",
    "\n",
    "Your code should return a Pandas series of directors. "
   ]
  },
  {
   "cell_type": "code",
   "execution_count": 10,
   "metadata": {},
   "outputs": [],
   "source": [
    "## Part D Solution cont.\n",
    "## Merging\n",
    "\n"
   ]
  },
  {
   "cell_type": "markdown",
   "metadata": {},
   "source": [
    "<h1>Part E. Visualization - Using Mathplotlib (5 marks)</h1>"
   ]
  },
  {
   "cell_type": "markdown",
   "metadata": {},
   "source": [
    "In this part we want to generate some Basic visualization of the data that we collected in the previous parts.\n"
   ]
  },
  {
   "cell_type": "markdown",
   "metadata": {},
   "source": [
    "<h2>Part E.1 Barplot (2 marks) </h2>\n",
    "<br>\n",
    "Using matplotlib, draw a barplot that shows the number of movies that were among the top250 in each year.\n",
    "\n",
    "To do so, you should first generate a dataframe that stores information about the imdb top250 movies as their title, year of production, and rate of imdb. Then using groupyby you create a new dataframe which aggregates the number of movies per year, as follows, where \"rating\" is the mean of all movies, per year:\n",
    "\n",
    "                           year  rating  count\n",
    "                        0  1921    8.30      1\n",
    "                        1  1925    8.20      1\n",
    "                        2  1926    8.10      1\n",
    "                        3  1927    8.15      2\n",
    "                        4  1928    8.10      1\n",
    "\n",
    "Note that barplot's X-axis shows the years and Y-axis shows the number of movies in each year which were among the imdb top250 movies."
   ]
  },
  {
   "cell_type": "code",
   "execution_count": 11,
   "metadata": {},
   "outputs": [],
   "source": [
    "# Part E.1 Solution\n",
    "# Barplot code\n",
    "\n"
   ]
  },
  {
   "cell_type": "markdown",
   "metadata": {},
   "source": [
    "<h2>Part E.2 BoxPlot (3 marks)</h2>"
   ]
  },
  {
   "cell_type": "markdown",
   "metadata": {},
   "source": [
    "In this section, using boxplot, we want to visualize the distribution of Production Years for movies in the Part C.2. table, per director. The X-axis should represent the top 5 directors (as listed by head() in Part C.2). Use Directors' last names as the lables. The Y-axis represents the Production Year. Each Boxplot represents the distribution of product Year, per director.\n",
    "\n",
    "<font color='red'>Note: In this section you can only use matplotlib to draw the plot</font>"
   ]
  },
  {
   "cell_type": "code",
   "execution_count": 12,
   "metadata": {},
   "outputs": [],
   "source": [
    "# Part E.2 Solution\n",
    "# Boxplot code\n",
    "    \n",
    "    "
   ]
  }
 ],
 "metadata": {
  "kernelspec": {
   "display_name": "Python 3",
   "language": "python",
   "name": "python3"
  },
  "language_info": {
   "codemirror_mode": {
    "name": "ipython",
    "version": 3
   },
   "file_extension": ".py",
   "mimetype": "text/x-python",
   "name": "python",
   "nbconvert_exporter": "python",
   "pygments_lexer": "ipython3",
   "version": "3.6.4"
  }
 },
 "nbformat": 4,
 "nbformat_minor": 2
}
